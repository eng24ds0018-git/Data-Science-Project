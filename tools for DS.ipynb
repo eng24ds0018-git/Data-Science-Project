{
 "cells": [
  {
   "cell_type": "markdown",
   "id": "178ba0f1-2a18-44b8-809b-a37ba0a89622",
   "metadata": {},
   "source": [
    "# Data Science Tools and Ecosystem"
   ]
  },
  {
   "cell_type": "markdown",
   "id": "627de226-91c6-410b-a0af-f211bcd5c35c",
   "metadata": {},
   "source": [
    "In this notebook, Data Science Tools and Ecosystem are summarized. We will explore the key languages, libraries, and tools that data scientists use to perform their work."
   ]
  },
  {
   "cell_type": "markdown",
   "id": "b55410d3-c9a0-4796-bc65-dd2abf55fd27",
   "metadata": {},
   "source": [
    "Some of the popular languages that Data Scientists use are:\n",
    "1.  Python 🐍\n",
    "2.  R\n",
    "3.  SQL\n",
    "4.  Julia\n",
    "5.  Scala\n",
    "6.  Java"
   ]
  },
  {
   "cell_type": "markdown",
   "id": "afe8c85f-45d2-4082-8d82-8c4c09c93709",
   "metadata": {},
   "source": [
    "Some of the commonly used libraries by Data Scientists include:\n",
    "* Pandas\n",
    "* NumPy\n",
    "* Matplotlib\n",
    "* Seaborn\n",
    "* Scikit-learn\n",
    "* Keras\n",
    "* TensorFlow\n",
    "* PyTorch\n",
    "* ggplot2"
   ]
  },
  {
   "cell_type": "markdown",
   "id": "3fc7ab38-649e-43be-bcb8-bee808f560d8",
   "metadata": {},
   "source": [
    "| Data Science Tools |\n",
    "|--------------------|\n",
    "| Jupyter Notebook   |\n",
    "| RStudio            |\n",
    "| Apache Spark       |\n",
    "| Tableau            |\n",
    "| KNIME              |"
   ]
  },
  {
   "cell_type": "markdown",
   "id": "fa0f93b9-a351-461b-9991-1b57953f40a9",
   "metadata": {},
   "source": [
    "### Below are a few examples of evaluating arithmetic expressions in Python."
   ]
  },
  {
   "cell_type": "code",
   "execution_count": 2,
   "id": "40b2c9a7-7148-4c8d-ac4a-917649cb71f6",
   "metadata": {},
   "outputs": [
    {
     "data": {
      "text/plain": [
       "17"
      ]
     },
     "execution_count": 2,
     "metadata": {},
     "output_type": "execute_result"
    }
   ],
   "source": [
    "# This a simple arithmetic expression to mutiply then add integers.\n",
    "(3 * 4) + 5"
   ]
  },
  {
   "cell_type": "code",
   "execution_count": 3,
   "id": "96ef9121-ff54-470e-a882-89180c2d2fc0",
   "metadata": {},
   "outputs": [
    {
     "name": "stdout",
     "output_type": "stream",
     "text": [
      "200 minutes is equal to 3.3333333333333335 hours.\n"
     ]
    }
   ],
   "source": [
    "# This will convert 200 minutes to hours by dividing by 60.\n",
    "minutes = 200\n",
    "hours = minutes / 60\n",
    "print(f\"{minutes} minutes is equal to {hours} hours.\")"
   ]
  },
  {
   "cell_type": "markdown",
   "id": "462444c1-f1c1-4a94-9486-0f97ea110ed5",
   "metadata": {},
   "source": [
    "**Objectives:**\n",
    "* List popular languages for Data Science.\n",
    "* List popular libraries for Data Science.\n",
    "* Create a table of development environment open source tools.\n",
    "* Demonstrate arithmetic expression execution in a code cell."
   ]
  },
  {
   "cell_type": "markdown",
   "id": "faead47f-45b2-4f6e-ac2a-258bec8f8144",
   "metadata": {},
   "source": [
    "## Author\n",
    "Jashwanth R"
   ]
  },
  {
   "cell_type": "code",
   "execution_count": null,
   "id": "e669d4bb-d48d-48c1-b2a8-3f4ba978a20a",
   "metadata": {},
   "outputs": [],
   "source": []
  }
 ],
 "metadata": {
  "kernelspec": {
   "display_name": "Python [conda env:base] *",
   "language": "python",
   "name": "conda-base-py"
  },
  "language_info": {
   "codemirror_mode": {
    "name": "ipython",
    "version": 3
   },
   "file_extension": ".py",
   "mimetype": "text/x-python",
   "name": "python",
   "nbconvert_exporter": "python",
   "pygments_lexer": "ipython3",
   "version": "3.13.5"
  }
 },
 "nbformat": 4,
 "nbformat_minor": 5
}
